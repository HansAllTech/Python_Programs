{
 "cells": [
  {
   "cell_type": "code",
   "execution_count": 2,
   "id": "0574f6ad-1ad9-4927-b59b-ff0fa9f5e56e",
   "metadata": {},
   "outputs": [
    {
     "name": "stderr",
     "output_type": "stream",
     "text": [
      "\n",
      "KeyboardInterrupt\n",
      "\n"
     ]
    },
    {
     "name": "stdin",
     "output_type": "stream",
     "text": [
      "--- Ingrese cantidad de intervalos de tiempo --- :  1\n"
     ]
    }
   ],
   "source": [
    "def conversion(cantidad):\n",
    "    inicio = 0\n",
    "    intervalo = 0\n",
    "\n",
    "    for x in range(cantidad):\n",
    "        intervalo += 1\n",
    "        print(f'Intervalo {intervalo}')\n",
    "\n",
    "        while True:\n",
    "            try:\n",
    "                m = int(input(\"Ingrese minuto: \"))\n",
    "                if m < 0:\n",
    "                    raise ValueError\n",
    "                break\n",
    "            except ValueError:\n",
    "                print(\"Ingrese un número entero positivo para los minutos.\")\n",
    "\n",
    "        while True:\n",
    "            try:\n",
    "                s = int(input(\"Ingrese segundo: \"))\n",
    "                if s < 0:\n",
    "                    raise ValueError\n",
    "                break\n",
    "            except ValueError:\n",
    "                print(\"Ingrese un número entero positivo para los segundos.\")\n",
    "\n",
    "        print('------------------------------------')\n",
    "\n",
    "        minutos_a_segundo = m * 60\n",
    "        inicio = minutos_a_segundo + s + inicio\n",
    "    \n",
    "    total_horas = int(inicio / 3600)\n",
    "    total_minutos = ((inicio / 3600) - int(inicio / 3600)) * 60\n",
    "    total_segundos = round((total_minutos - int(total_minutos)) * 60)\n",
    "\n",
    "    total_minutos_dos_decimales = round(total_minutos)\n",
    "    return total_horas, total_minutos_dos_decimales, total_segundos\n",
    "\n",
    "\n",
    "while True:\n",
    "    try:\n",
    "        cantidad_elementos = int(input(\"--- Ingrese cantidad de intervalos de tiempo --- : \"))\n",
    "        if cantidad_elementos <= 0:\n",
    "            raise ValueError\n",
    "        break\n",
    "    except ValueError:\n",
    "        print(\"Ingrese un número entero positivo para la cantidad de intervalos.\")\n",
    "\n",
    "obtener_horas, obtener_minutos, obtener_segundos = conversion(cantidad_elementos)\n",
    "print(f'Las horas de video son: {obtener_horas}, Los minutos son: {obtener_minutos}, Los segundos son: {obtener_segundos}')\n"
   ]
  }
 ],
 "metadata": {
  "kernelspec": {
   "display_name": "Python 3 (ipykernel)",
   "language": "python",
   "name": "python3"
  },
  "language_info": {
   "codemirror_mode": {
    "name": "ipython",
    "version": 3
   },
   "file_extension": ".py",
   "mimetype": "text/x-python",
   "name": "python",
   "nbconvert_exporter": "python",
   "pygments_lexer": "ipython3",
   "version": "3.10.11"
  }
 },
 "nbformat": 4,
 "nbformat_minor": 5
}
